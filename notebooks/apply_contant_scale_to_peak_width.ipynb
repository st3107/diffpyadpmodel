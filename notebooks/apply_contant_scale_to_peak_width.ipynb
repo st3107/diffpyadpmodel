{
 "cells": [
  {
   "cell_type": "code",
   "execution_count": 5,
   "id": "congressional-advantage",
   "metadata": {},
   "outputs": [
    {
     "ename": "RuntimeError",
     "evalue": "Pure virtual function 'maxWidth' called.",
     "output_type": "error",
     "traceback": [
      "\u001b[0;31m---------------------------------------------------------------------------\u001b[0m",
      "\u001b[0;31mRuntimeError\u001b[0m                              Traceback (most recent call last)",
      "\u001b[0;32m<ipython-input-5-1ccb9da649bb>\u001b[0m in \u001b[0;36m<module>\u001b[0;34m\u001b[0m\n\u001b[1;32m     40\u001b[0m \u001b[0;34m\u001b[0m\u001b[0m\n\u001b[1;32m     41\u001b[0m \u001b[0mcrystal\u001b[0m \u001b[0;34m=\u001b[0m \u001b[0mloadCrystal\u001b[0m\u001b[0;34m(\u001b[0m\u001b[0;34m\"data/Ni_cif_file.cif\"\u001b[0m\u001b[0;34m)\u001b[0m\u001b[0;34m\u001b[0m\u001b[0;34m\u001b[0m\u001b[0m\n\u001b[0;32m---> 42\u001b[0;31m \u001b[0mcalc\u001b[0m\u001b[0;34m(\u001b[0m\u001b[0mcrystal\u001b[0m\u001b[0;34m)\u001b[0m\u001b[0;34m\u001b[0m\u001b[0;34m\u001b[0m\u001b[0m\n\u001b[0m",
      "\u001b[0;32m~/anaconda3/envs/pdffitx_env/lib/python3.7/site-packages/diffpy/srreal/pdfcalculator.py\u001b[0m in \u001b[0;36m_call_kwargs\u001b[0;34m(self, structure, **kwargs)\u001b[0m\n\u001b[1;32m    125\u001b[0m         '''\n\u001b[1;32m    126\u001b[0m         \u001b[0msetattrFromKeywordArguments\u001b[0m\u001b[0;34m(\u001b[0m\u001b[0mself\u001b[0m\u001b[0;34m,\u001b[0m \u001b[0;34m**\u001b[0m\u001b[0mkwargs\u001b[0m\u001b[0;34m)\u001b[0m\u001b[0;34m\u001b[0m\u001b[0;34m\u001b[0m\u001b[0m\n\u001b[0;32m--> 127\u001b[0;31m         \u001b[0mself\u001b[0m\u001b[0;34m.\u001b[0m\u001b[0meval\u001b[0m\u001b[0;34m(\u001b[0m\u001b[0mstructure\u001b[0m\u001b[0;34m)\u001b[0m\u001b[0;34m\u001b[0m\u001b[0;34m\u001b[0m\u001b[0m\n\u001b[0m\u001b[1;32m    128\u001b[0m         \u001b[0;31m# apply kwargs again if structure contained any attribute\u001b[0m\u001b[0;34m\u001b[0m\u001b[0;34m\u001b[0m\u001b[0;34m\u001b[0m\u001b[0m\n\u001b[1;32m    129\u001b[0m         \u001b[0;31m# that may affect the result.\u001b[0m\u001b[0;34m\u001b[0m\u001b[0;34m\u001b[0m\u001b[0;34m\u001b[0m\u001b[0m\n",
      "\u001b[0;31mRuntimeError\u001b[0m: Pure virtual function 'maxWidth' called."
     ]
    }
   ],
   "source": [
    "import numpy as np\n",
    "\n",
    "from diffpy.srreal.peakwidthmodel import PeakWidthModel\n",
    "from diffpy.srreal.pdfcalculator import PDFCalculator\n",
    "from diffpy.srreal.structureadapter import BaseBondGenerator\n",
    "from pyobjcryst import loadCrystal\n",
    "\n",
    "class MyPWM(PeakWidthModel):\n",
    "    \"Helper class for testing PeakWidthModelOwner.\"\n",
    "\n",
    "    pwmscale = 1.5\n",
    "\n",
    "    def __init__(self):\n",
    "        PeakWidthModel.__init__(self)\n",
    "        self._registerDoubleAttribute('pwmscale')\n",
    "        return\n",
    "\n",
    "    def type(self):\n",
    "        return \"mypwm\"\n",
    "\n",
    "    def create(self):\n",
    "        return MyPWM()\n",
    "\n",
    "    def clone(self):\n",
    "        import copy\n",
    "        return copy.copy(self)\n",
    "\n",
    "    def calculate(self, bnds):\n",
    "        return self.pwmscale * np.sqrt(bnds.msd())\n",
    "\n",
    "    tcnt = 0\n",
    "    def ticker(self):\n",
    "        self.tcnt += 1\n",
    "        return PeakWidthModel.ticker(self)\n",
    "\n",
    "calc = PDFCalculator()\n",
    "mypwm = MyPWM()\n",
    "mypwm.pwmscale = 1.\n",
    "calc.peakwidthmodel = mypwm\n",
    "\n",
    "crystal = loadCrystal(\"data/Ni_cif_file.cif\")\n",
    "calc(crystal)"
   ]
  },
  {
   "cell_type": "code",
   "execution_count": null,
   "id": "herbal-grammar",
   "metadata": {},
   "outputs": [],
   "source": []
  }
 ],
 "metadata": {
  "kernelspec": {
   "display_name": "Python [conda env:pdffitx_env]",
   "language": "python",
   "name": "conda-env-pdffitx_env-py"
  },
  "language_info": {
   "codemirror_mode": {
    "name": "ipython",
    "version": 3
   },
   "file_extension": ".py",
   "mimetype": "text/x-python",
   "name": "python",
   "nbconvert_exporter": "python",
   "pygments_lexer": "ipython3",
   "version": "3.7.9"
  }
 },
 "nbformat": 4,
 "nbformat_minor": 5
}
